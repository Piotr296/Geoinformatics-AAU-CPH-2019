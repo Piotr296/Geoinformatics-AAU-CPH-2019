{
 "cells": [
  {
   "cell_type": "markdown",
   "metadata": {},
   "source": [
    "# Python Assignment"
   ]
  },
  {
   "cell_type": "code",
   "execution_count": null,
   "metadata": {},
   "outputs": [],
   "source": [
    "#Write a python script to \n",
    "#    - download CORINE land cover 2012 raster data  \n",
    "#    - print its metadata into your screen,\n",
    "#    - write the metadata into a text file,\n",
    "#    - Make a map of it.\n",
    "\n",
    "# (Note: you need to sign up for an account at Copernicus geoportal, \n",
    "#but here is a download link https://www.dropbox.com/s/552fvniyi72q0uw/ee1f27969707a827476b348e79b559a88337de74.zip?dl=0)\n"
   ]
  },
  {
   "cell_type": "code",
   "execution_count": null,
   "metadata": {},
   "outputs": [],
   "source": []
  }
 ],
 "metadata": {
  "kernelspec": {
   "display_name": "Python 3",
   "language": "python",
   "name": "python3"
  },
  "language_info": {
   "codemirror_mode": {
    "name": "ipython",
    "version": 3
   },
   "file_extension": ".py",
   "mimetype": "text/x-python",
   "name": "python",
   "nbconvert_exporter": "python",
   "pygments_lexer": "ipython3",
   "version": "3.7.3"
  }
 },
 "nbformat": 4,
 "nbformat_minor": 2
}
